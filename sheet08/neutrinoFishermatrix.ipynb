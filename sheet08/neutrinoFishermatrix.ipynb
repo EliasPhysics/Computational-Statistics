{
 "cells": [
  {
   "cell_type": "code",
   "execution_count": 2,
   "id": "5be9394b",
   "metadata": {},
   "outputs": [],
   "source": [
    "import numpy as np\n",
    "import matplotlib.pyplot as plt"
   ]
  },
  {
   "cell_type": "code",
   "execution_count": 4,
   "id": "794dfc49",
   "metadata": {},
   "outputs": [],
   "source": [
    "# Define constants\n",
    "A_s = 1.0 # amplitude of power spectrum \n",
    "Sigma_m_nu = 0.1 # eV\n",
    "Omega_m_h2 = 0.14\n",
    "f_nu = Sigma_m_nu / (93.14 * Omega_m_h2) \n",
    "n=1\n",
    "m=4\n",
    "k_eq = 0.015 # h/Mpc\n",
    "k_nu = 0.05 # h/Mpc\n",
    "Nk = 1e4 # number of modes per k bin\n",
    "\n",
    "\n",
    "# Define k range\n",
    "k_vals = np.arange(0.005, 0.201, 0.005)"
   ]
  },
  {
   "cell_type": "code",
   "execution_count": 5,
   "id": "abf49d8a",
   "metadata": {},
   "outputs": [],
   "source": [
    "# Precompute terms\n",
    "def P_CDM(k):\n",
    "   return k**n / (1 + (k / k_eq)**m)\n",
    "\n",
    "def S(k, f_nu):\n",
    "   return 1 - f_nu * (k**2 / (k**2 + k_nu**2))\n",
    "\n",
    "def P(k, A_s, f_nu):\n",
    "   return A_s * P_CDM(k) * S(k, f_nu)\n",
    "\n",
    "# Derivatives\n",
    "def dP_dAs(k):\n",
    "   return P(k, A_s, f_nu) / A_s\n",
    "\n",
    "def dP_dMnu(k):\n",
    "   df_nu_dMnu = 1 / (93.14 * Omega_m_h2)\n",
    "   dS_dfnu = -k**2 / (k**2 + k_nu**2)\n",
    "   return A_s * P_CDM(k) * dS_dfnu * df_nu_dMnu"
   ]
  },
  {
   "cell_type": "code",
   "execution_count": 6,
   "id": "04962ea3",
   "metadata": {},
   "outputs": [],
   "source": [
    "# Compute Fisher matrix components\n",
    "F_AA = 0.0\n",
    "F_Am = 0.0\n",
    "F_mm = 0.0\n",
    "for k in k_vals:\n",
    "   Pk = P(k, A_s, f_nu)\n",
    "   dP_A = dP_dAs(k)\n",
    "   dP_m = dP_dMnu(k)\n",
    "   factor = Nk / (2 * Pk**2)\n",
    "   F_AA += factor * dP_A**2\n",
    "   F_Am += factor * dP_A * dP_m\n",
    "   F_mm += factor * dP_m**2\n",
    "# Fisher matrix and covariance\n",
    "F = np.array([\n",
    "   [F_AA, F_Am],\n",
    "   [F_Am, F_mm]\n",
    "])\n",
    "Cov = np.linalg.inv(F)\n",
    "# Extract marginalized uncertainty on Sigma_m_nu\n",
    "sigma_mnu = np.sqrt(Cov[1, 1])"
   ]
  },
  {
   "cell_type": "code",
   "execution_count": 7,
   "id": "7a5fe837",
   "metadata": {},
   "outputs": [
    {
     "name": "stdout",
     "output_type": "stream",
     "text": [
      "Fisher Matrix:\n",
      " [[200000.         -10498.9354489 ]\n",
      " [-10498.9354489     647.35238738]]\n",
      "\n",
      "Covariance Matrix:\n",
      " [[3.36412224e-05 5.45602409e-04]\n",
      " [5.45602409e-04 1.03934806e-02]]\n",
      "\n",
      "1-sigma uncertainty on sum neutrino mass: 0.1019eV\n"
     ]
    }
   ],
   "source": [
    "# Print results\n",
    "print(\"Fisher Matrix:\\n\", F)\n",
    "print(\"\\nCovariance Matrix:\\n\", Cov)\n",
    "print(\"\\n1-sigma uncertainty on sum neutrino mass: {:.4f}eV\".format(sigma_mnu))"
   ]
  }
 ],
 "metadata": {
  "kernelspec": {
   "display_name": "3dcv-students",
   "language": "python",
   "name": "python3"
  },
  "language_info": {
   "codemirror_mode": {
    "name": "ipython",
    "version": 3
   },
   "file_extension": ".py",
   "mimetype": "text/x-python",
   "name": "python",
   "nbconvert_exporter": "python",
   "pygments_lexer": "ipython3",
   "version": "3.10.15"
  }
 },
 "nbformat": 4,
 "nbformat_minor": 5
}
